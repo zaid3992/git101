{
 "cells": [
  {
   "cell_type": "code",
   "execution_count": 1,
   "id": "470b1e4f",
   "metadata": {},
   "outputs": [],
   "source": [
    "#use in gethub read me file "
   ]
  },
  {
   "cell_type": "code",
   "execution_count": 2,
   "id": "7774b11d",
   "metadata": {},
   "outputs": [],
   "source": [
    "#file name test.md"
   ]
  },
  {
   "cell_type": "markdown",
   "id": "96310de9",
   "metadata": {},
   "source": [
    "# Heading 1\n",
    "How to give heading in markdown file ?\n",
    "## Heading 2\n",
    "### Heading 3"
   ]
  },
  {
   "cell_type": "markdown",
   "id": "8ad8ddf8",
   "metadata": {},
   "source": [
    "# 2- Block of words\n",
    "normsltext\n",
    ">special txt\n",
    ">this id other "
   ]
  },
  {
   "cell_type": "markdown",
   "id": "b4069c40",
   "metadata": {},
   "source": [
    "# 2- Block of words\n",
    "normsltext\n",
    ">special txt\n",
    ">\n",
    ">this id other"
   ]
  },
  {
   "cell_type": "markdown",
   "id": "9a0824ca",
   "metadata": {},
   "source": [
    "# 2- Block of words\n",
    "normsltext\n",
    "> special txt\n",
    "\n",
    ">this id other"
   ]
  },
  {
   "cell_type": "markdown",
   "id": "565f0e56",
   "metadata": {},
   "source": [
    "# 3 - Line Break\n",
    "this is thhbkhsfbkfv k dkj ubeunaj uohu  fhvbej fvhvbouue j vhbav n \n",
    "hdbsbjnkjlfnovisne djdfjn jdndojsno\n",
    "\n",
    "dsononvjfof"
   ]
  },
  {
   "cell_type": "markdown",
   "id": "25b9aed6",
   "metadata": {},
   "source": [
    "# 3 - Line Break\n",
    "this is thhbkhsfbkfv k dkj ubeunaj uohu  fhvbej fvhvbouue j vhbav n .\\\n",
    "hdbsbjnkjlfnovisne djdfjn jdndojsno\n",
    "\n",
    "dsononvjfof"
   ]
  },
  {
   "cell_type": "markdown",
   "id": "ea0a435a",
   "metadata": {},
   "source": [
    "# 4- Combine two things\n",
    "\n",
    "block of words and heading \n",
    "> ## Heading 2"
   ]
  },
  {
   "cell_type": "markdown",
   "id": "5ae21339",
   "metadata": {},
   "source": [
    "# 5- Face of text\n",
    "**Bold**\n",
    "\n",
    "*Italic*\n",
    "***Bold and italic***\n",
    "\n",
    "or you can use these symbols _(Underscore)\n",
    "__BOLD__\n",
    "_Italic_\n",
    "\n",
    "> Wrie comment about bold and italic"
   ]
  },
  {
   "cell_type": "markdown",
   "id": "e837d3a0",
   "metadata": {},
   "source": [
    "# 6 - Bulet points /List\n",
    "\n",
    "- Day1\n",
    "- Day2\n",
    "- Day3\n",
    "- Day4\n",
    "    - Day 4a\n",
    "        - sub list\n",
    "- Day 5\n",
    "\n",
    "> Number list\n",
    "\n",
    "1. Day1\n",
    "2. Day2\n",
    "1. Day3\n",
    "1. Day4\n",
    "    1. Day\n",
    "    2. Day\n",
    "1. Day5\n",
    "1. Day6"
   ]
  },
  {
   "cell_type": "markdown",
   "id": "f0c93aff",
   "metadata": {},
   "source": [
    "# Line Break or page break\n",
    "this is line 1.\n",
    "\n",
    "---\n",
    "___\n",
    "***\n",
    "\n",
    "this is line page 2"
   ]
  },
  {
   "cell_type": "markdown",
   "id": "325f0206",
   "metadata": {},
   "source": [
    "# Links and Hyper links \n",
    "\n",
    "<https://plotly.com/python/line-and-scatter/>\n",
    "\n",
    "[Click here ](https://plotly.com/python/line-and-scatter/)\n",
    "\n",
    "## dictionary\n",
    "\n",
    "[Click here ]: https://plotly.com/python/line-and-scatter/\n",
    "\n",
    "this is the link [here][Click here ]"
   ]
  },
  {
   "cell_type": "markdown",
   "id": "c76db9f7",
   "metadata": {},
   "source": [
    "# Images and Figure\n",
    "\n",
    "to pay please scan it :\n",
    "![QR](filename.png)\n",
    "\n",
    ">how to comment markdown line and shortcut\n",
    "\n",
    "Online picture\n",
    "\n",
    "![Codanics](googlefilePath.png)"
   ]
  },
  {
   "cell_type": "markdown",
   "id": "36389fa2",
   "metadata": {},
   "source": [
    "# 10- Adding code or code block\n",
    "\n",
    "to print a string use `print(\"Zaid\")`\n",
    "\n",
    "`print (\"sdfg\")`\n",
    "\n",
    "```\n",
    "x = 2 +4\n",
    "y = 9-2\n",
    "print(x)\n",
    "```\n",
    "> this color is HTML\n",
    "\n",
    "```HTML\n",
    "x = 2 +4\n",
    "y = 9-2\n",
    "print(x)\n",
    "```"
   ]
  },
  {
   "cell_type": "markdown",
   "id": "8b82d864",
   "metadata": {},
   "source": [
    "# Adding table \n",
    "\n",
    "| species | petal_length | sepal_length|\n",
    "| ------ | -------------| -------------|\n",
    "| Verifin | 8.4 | 3.3 |\n",
    "| Verifin | 8.4 | 3.3 |\n",
    "| Verifin | 8.4 | 3.3 |\n",
    "| Verifin | 8.4 | 3.3 |"
   ]
  },
  {
   "cell_type": "markdown",
   "id": "7b22f05c",
   "metadata": {},
   "source": [
    "# Adding table \n",
    "\n",
    "| species | petal_length | sepal_length|\n",
    "| :------ | -------------:| :-------------:|\n",
    "| Verifin | 8.4 | 3.3 |\n",
    "| Verifin | 8.4 | 3.3 |\n",
    "| Verifin | 8.4 | 3.3 |\n",
    "| Verifin | 8.4 | 3.3 |"
   ]
  },
  {
   "cell_type": "markdown",
   "id": "dc57bdea",
   "metadata": {},
   "source": [
    "# Content\n",
    "\n",
    "[Block of words](#2--Block-of-words)\\\n",
    "[links go to](#Links-and-Hyper-links)\n",
    "\n"
   ]
  }
 ],
 "metadata": {
  "kernelspec": {
   "display_name": "Python 3 (ipykernel)",
   "language": "python",
   "name": "python3"
  },
  "language_info": {
   "codemirror_mode": {
    "name": "ipython",
    "version": 3
   },
   "file_extension": ".py",
   "mimetype": "text/x-python",
   "name": "python",
   "nbconvert_exporter": "python",
   "pygments_lexer": "ipython3",
   "version": "3.9.7"
  }
 },
 "nbformat": 4,
 "nbformat_minor": 5
}
